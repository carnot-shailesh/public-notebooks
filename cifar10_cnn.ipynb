{
  "nbformat": 4,
  "nbformat_minor": 0,
  "metadata": {
    "colab": {
      "name": "cifar10-cnn.ipynb",
      "provenance": [],
      "collapsed_sections": [],
      "authorship_tag": "ABX9TyOSs1sAx+qz2e4tEYNZXm7o",
      "include_colab_link": true
    },
    "kernelspec": {
      "name": "python3",
      "display_name": "Python 3"
    },
    "accelerator": "GPU"
  },
  "cells": [
    {
      "cell_type": "markdown",
      "metadata": {
        "id": "view-in-github",
        "colab_type": "text"
      },
      "source": [
        "<a href=\"https://colab.research.google.com/github/carnot-shailesh/public-notebooks/blob/main/cifar10_cnn.ipynb\" target=\"_parent\"><img src=\"https://colab.research.google.com/assets/colab-badge.svg\" alt=\"Open In Colab\"/></a>"
      ]
    },
    {
      "cell_type": "code",
      "metadata": {
        "id": "LF96x4NOC-ka"
      },
      "source": [
        "import os\n",
        "\n",
        "from tensorflow import keras\n",
        "from tensorflow.keras.datasets import cifar10\n",
        "from tensorflow.keras.preprocessing.image import ImageDataGenerator\n",
        "from tensorflow.keras.models import Sequential\n",
        "from tensorflow.keras.layers import Dense, Dropout, Activation, Flatten\n",
        "from tensorflow.keras.layers import Conv2D, MaxPooling2D\n"
      ],
      "execution_count": null,
      "outputs": []
    },
    {
      "cell_type": "code",
      "metadata": {
        "id": "AdEwTkctD2dH"
      },
      "source": [
        "import matplotlib.pyplot as plt\n"
      ],
      "execution_count": null,
      "outputs": []
    },
    {
      "cell_type": "code",
      "metadata": {
        "id": "w2fS4wE6DHOs"
      },
      "source": [
        "batch_size = 32\n",
        "num_classes = 10\n",
        "epochs = 100\n",
        "num_predictions = 20\n",
        "save_dir = os.path.join(os.getcwd(), 'saved_models')\n",
        "model_name = 'keras_cifar10_trained_model.h5'\n"
      ],
      "execution_count": null,
      "outputs": []
    },
    {
      "cell_type": "code",
      "metadata": {
        "id": "2RzdSqR_DNMY",
        "outputId": "9fe18b98-39e6-45ee-f9b2-9298cd9f4628",
        "colab": {
          "base_uri": "https://localhost:8080/",
          "height": 109
        }
      },
      "source": [
        "(x_train, y_train), (x_test, y_test) = cifar10.load_data()\n",
        "print('x_train shape:', x_train.shape)\n",
        "print(x_train.shape[0], 'train samples')\n",
        "print(x_test.shape[0], 'test samples')\n"
      ],
      "execution_count": null,
      "outputs": [
        {
          "output_type": "stream",
          "text": [
            "Downloading data from https://www.cs.toronto.edu/~kriz/cifar-10-python.tar.gz\n",
            "170500096/170498071 [==============================] - 4s 0us/step\n",
            "x_train shape: (50000, 32, 32, 3)\n",
            "50000 train samples\n",
            "10000 test samples\n"
          ],
          "name": "stdout"
        }
      ]
    },
    {
      "cell_type": "code",
      "metadata": {
        "id": "v5SjMlY0DVJT"
      },
      "source": [
        "y_train = keras.utils.to_categorical(y_train, num_classes)\n",
        "y_test = keras.utils.to_categorical(y_test, num_classes)\n"
      ],
      "execution_count": null,
      "outputs": []
    },
    {
      "cell_type": "code",
      "metadata": {
        "id": "0MerDlKvDaQJ"
      },
      "source": [
        "model = Sequential()\n",
        "model.add(Conv2D(32, (3, 3), padding='same',\n",
        "                 input_shape=x_train.shape[1:]))\n",
        "model.add(Activation('relu'))\n",
        "model.add(Conv2D(32, (3, 3)))\n",
        "model.add(Activation('relu'))\n",
        "model.add(MaxPooling2D(pool_size=(2, 2)))\n",
        "model.add(Dropout(0.25))\n",
        "\n",
        "model.add(Conv2D(64, (3, 3), padding='same'))\n",
        "model.add(Activation('relu'))\n",
        "model.add(Conv2D(64, (3, 3)))\n",
        "model.add(Activation('relu'))\n",
        "model.add(MaxPooling2D(pool_size=(2, 2)))\n",
        "model.add(Dropout(0.25))\n",
        "\n",
        "model.add(Flatten())\n",
        "model.add(Dense(512))\n",
        "model.add(Activation('relu'))\n",
        "model.add(Dropout(0.5))\n",
        "model.add(Dense(num_classes))\n",
        "model.add(Activation('softmax'))\n"
      ],
      "execution_count": null,
      "outputs": []
    },
    {
      "cell_type": "code",
      "metadata": {
        "id": "5ey1KDqYDuet",
        "outputId": "8fc4015b-329d-40e2-f24f-12f71bcbc196",
        "colab": {
          "base_uri": "https://localhost:8080/",
          "height": 284
        }
      },
      "source": [
        "plt.imshow(x_train[4])"
      ],
      "execution_count": null,
      "outputs": [
        {
          "output_type": "execute_result",
          "data": {
            "text/plain": [
              "<matplotlib.image.AxesImage at 0x7f14b01e1128>"
            ]
          },
          "metadata": {
            "tags": []
          },
          "execution_count": 7
        },
        {
          "output_type": "display_data",
          "data": {
            "image/png": "[encoded data removed]",
            "text/plain": [
              "<Figure size 432x288 with 1 Axes>"
            ]
          },
          "metadata": {
            "tags": [],
            "needs_background": "light"
          }
        }
      ]
    },
    {
      "cell_type": "code",
      "metadata": {
        "id": "ELUO4GPbENTb"
      },
      "source": [
        "opt = keras.optimizers.RMSprop(learning_rate=0.0001, decay=1e-6)\n"
      ],
      "execution_count": null,
      "outputs": []
    },
    {
      "cell_type": "code",
      "metadata": {
        "id": "YD3jj7KwENHw"
      },
      "source": [
        "model.compile(loss='categorical_crossentropy',\n",
        "              optimizer=opt,\n",
        "              metrics=['accuracy'])"
      ],
      "execution_count": null,
      "outputs": []
    },
    {
      "cell_type": "code",
      "metadata": {
        "id": "h3cWHB5iETpB"
      },
      "source": [
        "x_train = x_train.astype('float32')\n",
        "x_test = x_test.astype('float32')\n",
        "x_train /= 255\n",
        "x_test /= 255\n"
      ],
      "execution_count": null,
      "outputs": []
    },
    {
      "cell_type": "code",
      "metadata": {
        "id": "O2NfbQPwEZ_m",
        "outputId": "afa52802-fdd6-4bc2-c962-e50b358105f8",
        "colab": {
          "base_uri": "https://localhost:8080/",
          "height": 35
        }
      },
      "source": [
        "print('Using real-time data augmentation.')\n",
        "# This will do preprocessing and realtime data augmentation:\n",
        "datagen = ImageDataGenerator(\n",
        "    featurewise_center=False,  # set input mean to 0 over the dataset\n",
        "    samplewise_center=False,  # set each sample mean to 0\n",
        "    featurewise_std_normalization=False,  # divide inputs by std of the dataset\n",
        "    samplewise_std_normalization=False,  # divide each input by its std\n",
        "    zca_whitening=False,  # apply ZCA whitening\n",
        "    zca_epsilon=1e-06,  # epsilon for ZCA whitening\n",
        "    rotation_range=0,  # randomly rotate images in the range (degrees, 0 to 180)\n",
        "    # randomly shift images horizontally (fraction of total width)\n",
        "    width_shift_range=0.1,\n",
        "    # randomly shift images vertically (fraction of total height)\n",
        "    height_shift_range=0.1,\n",
        "    shear_range=0.,  # set range for random shear\n",
        "    zoom_range=0.,  # set range for random zoom\n",
        "    channel_shift_range=0.,  # set range for random channel shifts\n",
        "    # set mode for filling points outside the input boundaries\n",
        "    fill_mode='nearest',\n",
        "    cval=0.,  # value used for fill_mode = \"constant\"\n",
        "    horizontal_flip=True,  # randomly flip images\n",
        "    vertical_flip=False,  # randomly flip images\n",
        "    # set rescaling factor (applied before any other transformation)\n",
        "    rescale=None,\n",
        "    # set function that will be applied on each input\n",
        "    preprocessing_function=None,\n",
        "    # image data format, either \"channels_first\" or \"channels_last\"\n",
        "    data_format=None,\n",
        "    # fraction of images reserved for validation (strictly between 0 and 1)\n",
        "    validation_split=0.0)\n",
        "\n",
        "# Compute quantities required for feature-wise normalization\n",
        "# (std, mean, and principal components if ZCA whitening is applied).\n",
        "datagen.fit(x_train)\n"
      ],
      "execution_count": null,
      "outputs": [
        {
          "output_type": "stream",
          "text": [
            "Using real-time data augmentation.\n"
          ],
          "name": "stdout"
        }
      ]
    },
    {
      "cell_type": "code",
      "metadata": {
        "id": "4ABFI0bZNATD",
        "outputId": "6d7eea65-00d9-41fc-cc72-71e59ed85baa",
        "colab": {
          "base_uri": "https://localhost:8080/",
          "height": 1000
        }
      },
      "source": [
        "# Fit the model on the batches generated by datagen.flow().\n",
        "model.fit_generator(datagen.flow(x_train, y_train,\n",
        "                                  batch_size=batch_size),\n",
        "                    epochs=epochs,\n",
        "                    validation_data=(x_test, y_test),\n",
        "                    workers=4)\n"
      ],
      "execution_count": null,
      "outputs": [
        {
          "output_type": "stream",
          "text": [
            "WARNING:tensorflow:From <ipython-input-12-bb47a9678ece>:6: Model.fit_generator (from tensorflow.python.keras.engine.training) is deprecated and will be removed in a future version.\n",
            "Instructions for updating:\n",
            "Please use Model.fit, which supports generators.\n",
            "Epoch 1/100\n",
            "1563/1563 [==============================] - 30s 19ms/step - loss: 1.8905 - accuracy: 0.3066 - val_loss: 1.5632 - val_accuracy: 0.4329\n",
            "Epoch 2/100\n",
            "1563/1563 [==============================] - 30s 19ms/step - loss: 1.5862 - accuracy: 0.4219 - val_loss: 1.3917 - val_accuracy: 0.4987\n",
            "Epoch 3/100\n",
            "1563/1563 [==============================] - 30s 19ms/step - loss: 1.4698 - accuracy: 0.4658 - val_loss: 1.3103 - val_accuracy: 0.5222\n",
            "Epoch 4/100\n",
            "1563/1563 [==============================] - 30s 19ms/step - loss: 1.3916 - accuracy: 0.4997 - val_loss: 1.2619 - val_accuracy: 0.5472\n",
            "Epoch 5/100\n",
            "1563/1563 [==============================] - 30s 19ms/step - loss: 1.3220 - accuracy: 0.5300 - val_loss: 1.1495 - val_accuracy: 0.5860\n",
            "Epoch 6/100\n",
            "1563/1563 [==============================] - 30s 19ms/step - loss: 1.2632 - accuracy: 0.5518 - val_loss: 1.1063 - val_accuracy: 0.6045\n",
            "Epoch 7/100\n",
            "1563/1563 [==============================] - 30s 19ms/step - loss: 1.2115 - accuracy: 0.5693 - val_loss: 1.0418 - val_accuracy: 0.6329\n",
            "Epoch 8/100\n",
            "1563/1563 [==============================] - 30s 19ms/step - loss: 1.1662 - accuracy: 0.5868 - val_loss: 1.0714 - val_accuracy: 0.6193\n",
            "Epoch 9/100\n",
            "1563/1563 [==============================] - 30s 19ms/step - loss: 1.1324 - accuracy: 0.5995 - val_loss: 1.0440 - val_accuracy: 0.6360\n",
            "Epoch 10/100\n",
            "1563/1563 [==============================] - 30s 19ms/step - loss: 1.0978 - accuracy: 0.6126 - val_loss: 0.9717 - val_accuracy: 0.6564\n",
            "Epoch 11/100\n",
            "1563/1563 [==============================] - 30s 19ms/step - loss: 1.0712 - accuracy: 0.6227 - val_loss: 0.9440 - val_accuracy: 0.6685\n",
            "Epoch 12/100\n",
            "1563/1563 [==============================] - 30s 19ms/step - loss: 1.0427 - accuracy: 0.6335 - val_loss: 0.9606 - val_accuracy: 0.6670\n",
            "Epoch 13/100\n",
            "1563/1563 [==============================] - 30s 19ms/step - loss: 1.0209 - accuracy: 0.6397 - val_loss: 0.8877 - val_accuracy: 0.6908\n",
            "Epoch 14/100\n",
            "1563/1563 [==============================] - 31s 20ms/step - loss: 1.0038 - accuracy: 0.6484 - val_loss: 0.8853 - val_accuracy: 0.6906\n",
            "Epoch 15/100\n",
            "1563/1563 [==============================] - 31s 20ms/step - loss: 0.9855 - accuracy: 0.6530 - val_loss: 0.8715 - val_accuracy: 0.6936\n",
            "Epoch 16/100\n",
            "1563/1563 [==============================] - 31s 20ms/step - loss: 0.9701 - accuracy: 0.6595 - val_loss: 0.8729 - val_accuracy: 0.6952\n",
            "Epoch 17/100\n",
            "1563/1563 [==============================] - 31s 20ms/step - loss: 0.9539 - accuracy: 0.6678 - val_loss: 0.8969 - val_accuracy: 0.6877\n",
            "Epoch 18/100\n",
            "1563/1563 [==============================] - 31s 20ms/step - loss: 0.9403 - accuracy: 0.6723 - val_loss: 0.8230 - val_accuracy: 0.7116\n",
            "Epoch 19/100\n",
            "1563/1563 [==============================] - 31s 20ms/step - loss: 0.9295 - accuracy: 0.6767 - val_loss: 0.8008 - val_accuracy: 0.7223\n",
            "Epoch 20/100\n",
            "1563/1563 [==============================] - 31s 20ms/step - loss: 0.9228 - accuracy: 0.6798 - val_loss: 0.8048 - val_accuracy: 0.7225\n",
            "Epoch 21/100\n",
            "1563/1563 [==============================] - 30s 19ms/step - loss: 0.9117 - accuracy: 0.6832 - val_loss: 0.7851 - val_accuracy: 0.7326\n",
            "Epoch 22/100\n",
            "1563/1563 [==============================] - 30s 19ms/step - loss: 0.9050 - accuracy: 0.6879 - val_loss: 0.7376 - val_accuracy: 0.7468\n",
            "Epoch 23/100\n",
            "1563/1563 [==============================] - 30s 19ms/step - loss: 0.8949 - accuracy: 0.6902 - val_loss: 0.7742 - val_accuracy: 0.7379\n",
            "Epoch 24/100\n",
            "1563/1563 [==============================] - 30s 19ms/step - loss: 0.8943 - accuracy: 0.6905 - val_loss: 0.7830 - val_accuracy: 0.7322\n",
            "Epoch 25/100\n",
            "1563/1563 [==============================] - 30s 19ms/step - loss: 0.8813 - accuracy: 0.6988 - val_loss: 0.8130 - val_accuracy: 0.7210\n",
            "Epoch 26/100\n",
            "1563/1563 [==============================] - 30s 19ms/step - loss: 0.8763 - accuracy: 0.6991 - val_loss: 0.8004 - val_accuracy: 0.7290\n",
            "Epoch 27/100\n",
            "1563/1563 [==============================] - 30s 19ms/step - loss: 0.8678 - accuracy: 0.7019 - val_loss: 0.7758 - val_accuracy: 0.7356\n",
            "Epoch 28/100\n",
            "1563/1563 [==============================] - 30s 19ms/step - loss: 0.8663 - accuracy: 0.7027 - val_loss: 0.7512 - val_accuracy: 0.7446\n",
            "Epoch 29/100\n",
            "1563/1563 [==============================] - 30s 19ms/step - loss: 0.8600 - accuracy: 0.7056 - val_loss: 0.7969 - val_accuracy: 0.7285\n",
            "Epoch 30/100\n",
            "1563/1563 [==============================] - 30s 19ms/step - loss: 0.8555 - accuracy: 0.7054 - val_loss: 0.7731 - val_accuracy: 0.7374\n",
            "Epoch 31/100\n",
            "1563/1563 [==============================] - 30s 19ms/step - loss: 0.8512 - accuracy: 0.7106 - val_loss: 0.7117 - val_accuracy: 0.7578\n",
            "Epoch 32/100\n",
            "1563/1563 [==============================] - 30s 19ms/step - loss: 0.8496 - accuracy: 0.7086 - val_loss: 0.7280 - val_accuracy: 0.7536\n",
            "Epoch 33/100\n",
            "1563/1563 [==============================] - 30s 19ms/step - loss: 0.8402 - accuracy: 0.7102 - val_loss: 0.7368 - val_accuracy: 0.7542\n",
            "Epoch 34/100\n",
            "1563/1563 [==============================] - 30s 19ms/step - loss: 0.8382 - accuracy: 0.7140 - val_loss: 0.7064 - val_accuracy: 0.7633\n",
            "Epoch 35/100\n",
            "1563/1563 [==============================] - 30s 19ms/step - loss: 0.8350 - accuracy: 0.7146 - val_loss: 0.7498 - val_accuracy: 0.7482\n",
            "Epoch 36/100\n",
            "1563/1563 [==============================] - 30s 19ms/step - loss: 0.8271 - accuracy: 0.7196 - val_loss: 0.7243 - val_accuracy: 0.7565\n",
            "Epoch 37/100\n",
            "1563/1563 [==============================] - 30s 19ms/step - loss: 0.8248 - accuracy: 0.7191 - val_loss: 0.7441 - val_accuracy: 0.7511\n",
            "Epoch 38/100\n",
            "1563/1563 [==============================] - 30s 19ms/step - loss: 0.8280 - accuracy: 0.7185 - val_loss: 0.7318 - val_accuracy: 0.7542\n",
            "Epoch 39/100\n",
            "1563/1563 [==============================] - 30s 19ms/step - loss: 0.8203 - accuracy: 0.7206 - val_loss: 0.8234 - val_accuracy: 0.7260\n",
            "Epoch 40/100\n",
            "1563/1563 [==============================] - 31s 20ms/step - loss: 0.8211 - accuracy: 0.7213 - val_loss: 0.8198 - val_accuracy: 0.7407\n",
            "Epoch 41/100\n",
            "1563/1563 [==============================] - 31s 20ms/step - loss: 0.8174 - accuracy: 0.7218 - val_loss: 0.7283 - val_accuracy: 0.7529\n",
            "Epoch 42/100\n",
            "1563/1563 [==============================] - 30s 19ms/step - loss: 0.8111 - accuracy: 0.7235 - val_loss: 0.7096 - val_accuracy: 0.7626\n",
            "Epoch 43/100\n",
            "1563/1563 [==============================] - 31s 20ms/step - loss: 0.8106 - accuracy: 0.7253 - val_loss: 0.6987 - val_accuracy: 0.7656\n",
            "Epoch 44/100\n",
            "1563/1563 [==============================] - 31s 20ms/step - loss: 0.8035 - accuracy: 0.7292 - val_loss: 0.7274 - val_accuracy: 0.7550\n",
            "Epoch 45/100\n",
            "1563/1563 [==============================] - 31s 20ms/step - loss: 0.7989 - accuracy: 0.7292 - val_loss: 0.7009 - val_accuracy: 0.7641\n",
            "Epoch 46/100\n",
            "1563/1563 [==============================] - 31s 20ms/step - loss: 0.8017 - accuracy: 0.7300 - val_loss: 0.7219 - val_accuracy: 0.7573\n",
            "Epoch 47/100\n",
            "1563/1563 [==============================] - 31s 20ms/step - loss: 0.8012 - accuracy: 0.7293 - val_loss: 0.7037 - val_accuracy: 0.7676\n",
            "Epoch 48/100\n",
            "1563/1563 [==============================] - 31s 20ms/step - loss: 0.7999 - accuracy: 0.7287 - val_loss: 0.6779 - val_accuracy: 0.7704\n",
            "Epoch 49/100\n",
            "1563/1563 [==============================] - 32s 20ms/step - loss: 0.7969 - accuracy: 0.7282 - val_loss: 0.7130 - val_accuracy: 0.7633\n",
            "Epoch 50/100\n",
            "1563/1563 [==============================] - 32s 21ms/step - loss: 0.7986 - accuracy: 0.7284 - val_loss: 0.6380 - val_accuracy: 0.7844\n",
            "Epoch 51/100\n",
            "1563/1563 [==============================] - 32s 20ms/step - loss: 0.7978 - accuracy: 0.7278 - val_loss: 0.7164 - val_accuracy: 0.7632\n",
            "Epoch 52/100\n",
            "1563/1563 [==============================] - 31s 20ms/step - loss: 0.7938 - accuracy: 0.7309 - val_loss: 0.7705 - val_accuracy: 0.7405\n",
            "Epoch 53/100\n",
            "1563/1563 [==============================] - 32s 20ms/step - loss: 0.7932 - accuracy: 0.7321 - val_loss: 0.6912 - val_accuracy: 0.7710\n",
            "Epoch 54/100\n",
            "1563/1563 [==============================] - 32s 20ms/step - loss: 0.7912 - accuracy: 0.7330 - val_loss: 0.6650 - val_accuracy: 0.7804\n",
            "Epoch 55/100\n",
            "1563/1563 [==============================] - 31s 20ms/step - loss: 0.7910 - accuracy: 0.7340 - val_loss: 0.6836 - val_accuracy: 0.7725\n",
            "Epoch 56/100\n",
            "1563/1563 [==============================] - 31s 20ms/step - loss: 0.7940 - accuracy: 0.7324 - val_loss: 0.7267 - val_accuracy: 0.7581\n",
            "Epoch 57/100\n",
            "1563/1563 [==============================] - 31s 20ms/step - loss: 0.7890 - accuracy: 0.7340 - val_loss: 0.6815 - val_accuracy: 0.7729\n",
            "Epoch 58/100\n",
            "1563/1563 [==============================] - 31s 20ms/step - loss: 0.7875 - accuracy: 0.7357 - val_loss: 0.6463 - val_accuracy: 0.7844\n",
            "Epoch 59/100\n",
            "1563/1563 [==============================] - 31s 20ms/step - loss: 0.7871 - accuracy: 0.7360 - val_loss: 0.7322 - val_accuracy: 0.7592\n",
            "Epoch 60/100\n",
            "1563/1563 [==============================] - 32s 20ms/step - loss: 0.7846 - accuracy: 0.7368 - val_loss: 0.7030 - val_accuracy: 0.7674\n",
            "Epoch 61/100\n",
            "1563/1563 [==============================] - 31s 20ms/step - loss: 0.7857 - accuracy: 0.7353 - val_loss: 0.6461 - val_accuracy: 0.7832\n",
            "Epoch 62/100\n",
            "1563/1563 [==============================] - 31s 20ms/step - loss: 0.7782 - accuracy: 0.7375 - val_loss: 0.7779 - val_accuracy: 0.7431\n",
            "Epoch 63/100\n",
            "1563/1563 [==============================] - 31s 20ms/step - loss: 0.7915 - accuracy: 0.7347 - val_loss: 0.6571 - val_accuracy: 0.7811\n",
            "Epoch 64/100\n",
            "1563/1563 [==============================] - 31s 20ms/step - loss: 0.7845 - accuracy: 0.7384 - val_loss: 0.6831 - val_accuracy: 0.7760\n",
            "Epoch 65/100\n",
            "1563/1563 [==============================] - 31s 20ms/step - loss: 0.7798 - accuracy: 0.7399 - val_loss: 0.7406 - val_accuracy: 0.7636\n",
            "Epoch 66/100\n",
            "1563/1563 [==============================] - 31s 20ms/step - loss: 0.7793 - accuracy: 0.7367 - val_loss: 0.6674 - val_accuracy: 0.7799\n",
            "Epoch 67/100\n",
            "1563/1563 [==============================] - 31s 20ms/step - loss: 0.7876 - accuracy: 0.7391 - val_loss: 0.6903 - val_accuracy: 0.7765\n",
            "Epoch 68/100\n",
            "1563/1563 [==============================] - 30s 19ms/step - loss: 0.7810 - accuracy: 0.7384 - val_loss: 0.6957 - val_accuracy: 0.7648\n",
            "Epoch 69/100\n",
            "1563/1563 [==============================] - 30s 19ms/step - loss: 0.7816 - accuracy: 0.7388 - val_loss: 0.6630 - val_accuracy: 0.7801\n",
            "Epoch 70/100\n",
            "1563/1563 [==============================] - 30s 19ms/step - loss: 0.7912 - accuracy: 0.7376 - val_loss: 0.7466 - val_accuracy: 0.7468\n",
            "Epoch 71/100\n",
            "1563/1563 [==============================] - 30s 19ms/step - loss: 0.7817 - accuracy: 0.7379 - val_loss: 0.6566 - val_accuracy: 0.7828\n",
            "Epoch 72/100\n",
            "1563/1563 [==============================] - 30s 19ms/step - loss: 0.7841 - accuracy: 0.7390 - val_loss: 0.6974 - val_accuracy: 0.7714\n",
            "Epoch 73/100\n",
            "1563/1563 [==============================] - 30s 19ms/step - loss: 0.7798 - accuracy: 0.7397 - val_loss: 0.7119 - val_accuracy: 0.7644\n",
            "Epoch 74/100\n",
            "1563/1563 [==============================] - 30s 19ms/step - loss: 0.7856 - accuracy: 0.7375 - val_loss: 0.6866 - val_accuracy: 0.7702\n",
            "Epoch 75/100\n",
            "1563/1563 [==============================] - 30s 19ms/step - loss: 0.7861 - accuracy: 0.7369 - val_loss: 0.7084 - val_accuracy: 0.7675\n",
            "Epoch 76/100\n",
            "1563/1563 [==============================] - 30s 19ms/step - loss: 0.7863 - accuracy: 0.7396 - val_loss: 0.7120 - val_accuracy: 0.7650\n",
            "Epoch 77/100\n",
            "1563/1563 [==============================] - 30s 19ms/step - loss: 0.7827 - accuracy: 0.7394 - val_loss: 0.7053 - val_accuracy: 0.7681\n",
            "Epoch 78/100\n",
            "1563/1563 [==============================] - 30s 19ms/step - loss: 0.7874 - accuracy: 0.7391 - val_loss: 0.6939 - val_accuracy: 0.7670\n",
            "Epoch 79/100\n",
            "1563/1563 [==============================] - 30s 19ms/step - loss: 0.7898 - accuracy: 0.7365 - val_loss: 0.8101 - val_accuracy: 0.7353\n",
            "Epoch 80/100\n",
            "1563/1563 [==============================] - 31s 20ms/step - loss: 0.7820 - accuracy: 0.7400 - val_loss: 0.7241 - val_accuracy: 0.7649\n",
            "Epoch 81/100\n",
            "1563/1563 [==============================] - 30s 19ms/step - loss: 0.7920 - accuracy: 0.7375 - val_loss: 0.6535 - val_accuracy: 0.7804\n",
            "Epoch 82/100\n",
            "1563/1563 [==============================] - 30s 19ms/step - loss: 0.7896 - accuracy: 0.7365 - val_loss: 0.7363 - val_accuracy: 0.7578\n",
            "Epoch 83/100\n",
            "1563/1563 [==============================] - 30s 19ms/step - loss: 0.7921 - accuracy: 0.7349 - val_loss: 0.7182 - val_accuracy: 0.7666\n",
            "Epoch 84/100\n",
            "1563/1563 [==============================] - 30s 19ms/step - loss: 0.7867 - accuracy: 0.7380 - val_loss: 0.7882 - val_accuracy: 0.7348\n",
            "Epoch 85/100\n",
            "1563/1563 [==============================] - 30s 19ms/step - loss: 0.7914 - accuracy: 0.7348 - val_loss: 0.7371 - val_accuracy: 0.7624\n",
            "Epoch 86/100\n",
            "1563/1563 [==============================] - 30s 19ms/step - loss: 0.7894 - accuracy: 0.7375 - val_loss: 0.6844 - val_accuracy: 0.7795\n",
            "Epoch 87/100\n",
            "1563/1563 [==============================] - 30s 19ms/step - loss: 0.7916 - accuracy: 0.7376 - val_loss: 0.7207 - val_accuracy: 0.7592\n",
            "Epoch 88/100\n",
            "1563/1563 [==============================] - 31s 20ms/step - loss: 0.7828 - accuracy: 0.7398 - val_loss: 0.7576 - val_accuracy: 0.7532\n",
            "Epoch 89/100\n",
            "1563/1563 [==============================] - 31s 20ms/step - loss: 0.7932 - accuracy: 0.7367 - val_loss: 0.7159 - val_accuracy: 0.7668\n",
            "Epoch 90/100\n",
            "1563/1563 [==============================] - 30s 19ms/step - loss: 0.7995 - accuracy: 0.7338 - val_loss: 0.6989 - val_accuracy: 0.7722\n",
            "Epoch 91/100\n",
            "1563/1563 [==============================] - 32s 20ms/step - loss: 0.8007 - accuracy: 0.7359 - val_loss: 0.6869 - val_accuracy: 0.7745\n",
            "Epoch 92/100\n",
            "1563/1563 [==============================] - 30s 19ms/step - loss: 0.7942 - accuracy: 0.7373 - val_loss: 0.7088 - val_accuracy: 0.7650\n",
            "Epoch 93/100\n",
            "1563/1563 [==============================] - 30s 19ms/step - loss: 0.7993 - accuracy: 0.7369 - val_loss: 0.7320 - val_accuracy: 0.7621\n",
            "Epoch 94/100\n",
            "1563/1563 [==============================] - 30s 19ms/step - loss: 0.7960 - accuracy: 0.7372 - val_loss: 0.7187 - val_accuracy: 0.7729\n",
            "Epoch 95/100\n",
            "1563/1563 [==============================] - 30s 19ms/step - loss: 0.7982 - accuracy: 0.7340 - val_loss: 0.7420 - val_accuracy: 0.7566\n",
            "Epoch 96/100\n",
            "1563/1563 [==============================] - 30s 19ms/step - loss: 0.8007 - accuracy: 0.7354 - val_loss: 0.7342 - val_accuracy: 0.7697\n",
            "Epoch 97/100\n",
            "1563/1563 [==============================] - 30s 19ms/step - loss: 0.7997 - accuracy: 0.7335 - val_loss: 0.7114 - val_accuracy: 0.7690\n",
            "Epoch 98/100\n",
            "1563/1563 [==============================] - 30s 19ms/step - loss: 0.8058 - accuracy: 0.7354 - val_loss: 0.7077 - val_accuracy: 0.7705\n",
            "Epoch 99/100\n",
            "1563/1563 [==============================] - 30s 19ms/step - loss: 0.8089 - accuracy: 0.7333 - val_loss: 0.7867 - val_accuracy: 0.7426\n",
            "Epoch 100/100\n",
            "1563/1563 [==============================] - 30s 19ms/step - loss: 0.8113 - accuracy: 0.7326 - val_loss: 0.7186 - val_accuracy: 0.7628\n"
          ],
          "name": "stdout"
        },
        {
          "output_type": "execute_result",
          "data": {
            "text/plain": [
              "<tensorflow.python.keras.callbacks.History at 0x7f14bd146f60>"
            ]
          },
          "metadata": {
            "tags": []
          },
          "execution_count": 12
        }
      ]
    },
    {
      "cell_type": "code",
      "metadata": {
        "id": "Gknb3u8IN7rw",
        "outputId": "6174c877-757b-4721-d77a-b61f53a87496",
        "colab": {
          "base_uri": "https://localhost:8080/",
          "height": 35
        }
      },
      "source": [
        "# Save model and weights\n",
        "if not os.path.isdir(save_dir):\n",
        "    os.makedirs(save_dir)\n",
        "model_path = os.path.join(save_dir, model_name)\n",
        "model.save(model_path)\n",
        "print('Saved trained model at %s ' % model_path)\n"
      ],
      "execution_count": null,
      "outputs": [
        {
          "output_type": "stream",
          "text": [
            "Saved trained model at /content/saved_models/keras_cifar10_trained_model.h5 \n"
          ],
          "name": "stdout"
        }
      ]
    },
    {
      "cell_type": "code",
      "metadata": {
        "id": "2uh8TYNBOEi_",
        "outputId": "a611c1b8-0bec-4bf7-a4b6-08a04ca49254",
        "colab": {
          "base_uri": "https://localhost:8080/",
          "height": 72
        }
      },
      "source": [
        "# Score trained model.\n",
        "scores = model.evaluate(x_test, y_test, verbose=1)\n",
        "print('Test loss:', scores[0])\n",
        "print('Test accuracy:', scores[1])"
      ],
      "execution_count": null,
      "outputs": [
        {
          "output_type": "stream",
          "text": [
            "313/313 [==============================] - 1s 3ms/step - loss: 0.7186 - accuracy: 0.7628\n",
            "Test loss: 0.7186429500579834\n",
            "Test accuracy: 0.7627999782562256\n"
          ],
          "name": "stdout"
        }
      ]
    }
  ]
}